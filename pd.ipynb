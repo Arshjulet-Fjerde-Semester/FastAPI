{
 "cells": [
  {
   "cell_type": "code",
   "execution_count": 6,
   "metadata": {},
   "outputs": [],
   "source": [
    "\n",
    "#the pd is the standard shorthand for pandas\n",
    "import pandas as pd\n",
    "import PyPDF2"
   ]
  },
  {
   "cell_type": "code",
   "execution_count": 7,
   "metadata": {},
   "outputs": [
    {
     "name": "stdout",
     "output_type": "stream",
     "text": [
      "\n"
     ]
    }
   ],
   "source": [
    "#declare the path of your file\n",
    "file_path = r\"Woldike_1set.pdf\"\n",
    "\n",
    "\n",
    "#Convert your file\n",
    "pdfFileObj = open(file_path, 'rb')\n",
    "pdfReader = PyPDF2.PdfFileReader(pdfFileObj)\n",
    "pageObj = pdfReader.getPage(0)\n",
    "page1 = pageObj.extractText()\n",
    "page1 = page1[25:]\n",
    "print(page1)"
   ]
  }
 ],
 "metadata": {
  "interpreter": {
   "hash": "910c7df2e8d753d836dbf86c87eb066979e33aa55d608ad4620e9a5544b0d3cd"
  },
  "kernelspec": {
   "display_name": "Python 3.10.2 64-bit",
   "language": "python",
   "name": "python3"
  },
  "language_info": {
   "codemirror_mode": {
    "name": "ipython",
    "version": 3
   },
   "file_extension": ".py",
   "mimetype": "text/x-python",
   "name": "python",
   "nbconvert_exporter": "python",
   "pygments_lexer": "ipython3",
   "version": "3.10.2"
  },
  "orig_nbformat": 4
 },
 "nbformat": 4,
 "nbformat_minor": 2
}
